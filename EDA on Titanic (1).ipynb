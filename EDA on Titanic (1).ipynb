
EDA on Titanic Dataset
image.png

# Import the libraries
import pandas as pd
import numpy as np
import matplotlib.pyplot as plt
import seaborn as sns

# To ignore Warning
import warnings
warnings.filterwarnings('ignore')
# Import the dataset
data = pd.read_csv('titanic.csv')
Basic EDA
# Display top 5 records
data.head()
PassengerId	Survived	Pclass	Name	Sex	Age	SibSp	Parch	Ticket	Fare	Cabin	Embarked
0	1	0	3	Braund, Mr. Owen Harris	male	22.0	1	0	A/5 21171	7.2500	NaN	S
1	2	1	1	Cumings, Mrs. John Bradley (Florence Briggs Th...	female	38.0	1	0	PC 17599	71.2833	C85	C
2	3	1	3	Heikkinen, Miss. Laina	female	26.0	0	0	STON/O2. 3101282	7.9250	NaN	S
3	4	1	1	Futrelle, Mrs. Jacques Heath (Lily May Peel)	female	35.0	1	0	113803	53.1000	C123	S
4	5	0	3	Allen, Mr. William Henry	male	35.0	0	0	373450	8.0500	NaN	S
# Display last 5 records
data.tail()
PassengerId	Survived	Pclass	Name	Sex	Age	SibSp	Parch	Ticket	Fare	Cabin	Embarked
886	887	0	2	Montvila, Rev. Juozas	male	27.0	0	0	211536	13.00	NaN	S
887	888	1	1	Graham, Miss. Margaret Edith	female	19.0	0	0	112053	30.00	B42	S
888	889	0	3	Johnston, Miss. Catherine Helen "Carrie"	female	NaN	1	2	W./C. 6607	23.45	NaN	S
889	890	1	1	Behr, Mr. Karl Howell	male	26.0	0	0	111369	30.00	C148	C
890	891	0	3	Dooley, Mr. Patrick	male	32.0	0	0	370376	7.75	NaN	Q
# Get the total number of records & attributes
data.shape
(891, 12)
# Getting statistical info about dataset
data.describe()
PassengerId	Survived	Pclass	Age	SibSp	Parch	Fare
count	891.000000	891.000000	891.000000	714.000000	891.000000	891.000000	891.000000
mean	446.000000	0.383838	2.308642	29.699118	0.523008	0.381594	32.204208
std	257.353842	0.486592	0.836071	14.526497	1.102743	0.806057	49.693429
min	1.000000	0.000000	1.000000	0.420000	0.000000	0.000000	0.000000
25%	223.500000	0.000000	2.000000	20.125000	0.000000	0.000000	7.910400
50%	446.000000	0.000000	3.000000	28.000000	0.000000	0.000000	14.454200
75%	668.500000	1.000000	3.000000	38.000000	1.000000	0.000000	31.000000
max	891.000000	1.000000	3.000000	80.000000	8.000000	6.000000	512.329200
# Getting List of column
data.columns
Index(['PassengerId', 'Survived', 'Pclass', 'Name', 'Sex', 'Age', 'SibSp',
       'Parch', 'Ticket', 'Fare', 'Cabin', 'Embarked'],
      dtype='object')
Categorical Columns
Survived
Pclass
Sex
SibSp
Parch
Embarked
Numerical Columns
PassengerId
Age
Fare
# Getting more info about dataset
data.info()
<class 'pandas.core.frame.DataFrame'>
RangeIndex: 891 entries, 0 to 890
Data columns (total 12 columns):
 #   Column       Non-Null Count  Dtype  
---  ------       --------------  -----  
 0   PassengerId  891 non-null    int64  
 1   Survived     891 non-null    int64  
 2   Pclass       891 non-null    int64  
 3   Name         891 non-null    object 
 4   Sex          891 non-null    object 
 5   Age          714 non-null    float64
 6   SibSp        891 non-null    int64  
 7   Parch        891 non-null    int64  
 8   Ticket       891 non-null    object 
 9   Fare         891 non-null    float64
 10  Cabin        204 non-null    object 
 11  Embarked     889 non-null    object 
dtypes: float64(2), int64(5), object(5)
memory usage: 83.7+ KB
Advance EDA
# Check for Null Values
data.isnull().sum()
PassengerId      0
Survived         0
Pclass           0
Name             0
Sex              0
Age            177
SibSp            0
Parch            0
Ticket           0
Fare             0
Cabin          687
Embarked         2
dtype: int64
Observation
Age,Cabin & Embarked column has missing values
More than 70% Values are missing in cabin
There are few col having inappropriate data type
# Drop the Cabin column
data.drop('Cabin', axis=1,inplace=True)
data.head(1)
PassengerId	Survived	Pclass	Name	Sex	Age	SibSp	Parch	Ticket	Fare	Embarked
0	1	0	3	Braund, Mr. Owen Harris	male	22.0	1	0	A/5 21171	7.25	S
# Impute Missing Values for Age
data['Age'].fillna(data['Age'].mean(),inplace= True)
data['Age'].isnull().sum()
0
# Impute Missing Values for Embarked

# Getting most frequent val
data['Embarked'].mode()

# Fill the val
data['Embarked'].fillna('S',inplace= True)
data['Embarked'].isnull().sum()
0
Changing the datatype of following col
Survived, Pclass, Sex, Age, Embarked
data['Survived'] = data['Survived'].astype('category')
data['Pclass'] = data['Pclass'].astype('category')
data['Sex'] = data['Sex'].astype('category')
data['Age'] = data['Age'].astype('int')
data['Embarked'] = data['Embarked'].astype('category')
data.info()
<class 'pandas.core.frame.DataFrame'>
RangeIndex: 891 entries, 0 to 890
Data columns (total 11 columns):
 #   Column       Non-Null Count  Dtype   
---  ------       --------------  -----   
 0   PassengerId  891 non-null    int64   
 1   Survived     891 non-null    category
 2   Pclass       891 non-null    category
 3   Name         891 non-null    object  
 4   Sex          891 non-null    category
 5   Age          891 non-null    int32   
 6   SibSp        891 non-null    int64   
 7   Parch        891 non-null    int64   
 8   Ticket       891 non-null    object  
 9   Fare         891 non-null    float64 
 10  Embarked     891 non-null    category
dtypes: category(4), float64(1), int32(1), int64(3), object(2)
memory usage: 49.4+ KB
# get the 5 point summary
data.describe()
PassengerId	Age	SibSp	Parch	Fare
count	891.000000	891.000000	891.000000	891.000000	891.000000
mean	446.000000	29.544332	0.523008	0.381594	32.204208
std	257.353842	13.013778	1.102743	0.806057	49.693429
min	1.000000	0.000000	0.000000	0.000000	0.000000
25%	223.500000	22.000000	0.000000	0.000000	7.910400
50%	446.000000	29.000000	0.000000	0.000000	14.454200
75%	668.500000	35.000000	1.000000	0.000000	31.000000
max	891.000000	80.000000	8.000000	6.000000	512.329200
# Check for Duplicate values
data[data.duplicated()]
PassengerId	Survived	Pclass	Name	Sex	Age	SibSp	Parch	Ticket	Fare	Embarked
Observation
There are no Duplicate Values
Univariate Analysis
# Survived Column
sns.countplot(data['Survived'])

death_per = round (data['Survived'].value_counts().values[0]/891*100)

# Observation
print('out of 891 {} % people died'.format(death_per))
out of 891 62 % people died

# Pclass Col
print(data['Pclass'].value_counts())
print((data['Pclass'].value_counts()/891)*100)

sns.countplot(data['Pclass'])
3    491
1    216
2    184
Name: Pclass, dtype: int64
3    55.106622
1    24.242424
2    20.650954
Name: Pclass, dtype: float64
<AxesSubplot:xlabel='Pclass', ylabel='count'>

Observation
Maximum people travelling through class 3
491 people travelling through class 3
# Sex attribute
print(data['Sex'].value_counts())
print()
print((data['Sex'].value_counts()/891)*100)

sns.countplot(data['Sex'])
male      577
female    314
Name: Sex, dtype: int64

male      64.758698
female    35.241302
Name: Sex, dtype: float64
<AxesSubplot:xlabel='Sex', ylabel='count'>

Observation
Male passengers are more compared to female passengers
# SibSp attribute
print(data['SibSp'].value_counts())
print()
print((data['SibSp'].value_counts()/891)*100)

sns.countplot(data['SibSp'])
0    608
1    209
2     28
4     18
3     16
8      7
5      5
Name: SibSp, dtype: int64

0    68.237935
1    23.456790
2     3.142536
4     2.020202
3     1.795735
8     0.785634
5     0.561167
Name: SibSp, dtype: float64
<AxesSubplot:xlabel='SibSp', ylabel='count'>

Observation
Maximum passengers are not travelling with sibling/spouse or travelling alone
Around 600 passengers travelling alone
Around 200 passengers travelling with sibling/spouse
# Parch attribute
print(data['Parch'].value_counts())
print()
print((data['Parch'].value_counts()/891)*100)

sns.countplot(data['Parch'])
0    678
1    118
2     80
5      5
3      5
4      4
6      1
Name: Parch, dtype: int64

0    76.094276
1    13.243547
2     8.978676
5     0.561167
3     0.561167
4     0.448934
6     0.112233
Name: Parch, dtype: float64
<AxesSubplot:xlabel='Parch', ylabel='count'>

# Embarked attribute
print(data['Embarked'].value_counts())
print()
print((data['Embarked'].value_counts()/891)*100)

sns.countplot(data['Embarked'])
S    646
C    168
Q     77
Name: Embarked, dtype: int64

S    72.502806
C    18.855219
Q     8.641975
Name: Embarked, dtype: float64
<AxesSubplot:xlabel='Embarked', ylabel='count'>

Observation
Maximum passengers onboarded in Titanic from station with code S
# Distplot for Age
sns.distplot(data['Age'])
data['Age'].skew()
0.45956263424701577

# Boxplot for Age
sns.boxplot(data['Age'])
<AxesSubplot:xlabel='Age'>

# Getting more info
print('NUmber of People having age between 20 to 40 are',data[(data['Age'] >= 20) & (data['Age'] <=40)].shape[0])
print('People having age between 60 to 75 are',data[(data['Age'] >= 60) & (data['Age'] <=75)].shape[0])
print('People having age above 75 is',data[(data['Age'] >= 75)].shape[0])
print('People having age below 1 are',data[(data['Age'] <= 1)].shape[0])
NUmber of People having age between 20 to 40 are 579
People having age between 60 to 75 are 25
People having age above 75 is 1
People having age below 1 are 14
# Handling the outliers
age = data['Age']

tenth_percentile = np.percentile(age, 10)
ninetieth_percentile = np.percentile(age, 90)
    
print('10th,tenth_percentile',tenth_percentile)
print('90th,tenth_percentile',ninetieth_percentile)
    
b = np.where(age<tenth_percentile, tenth_percentile, age)

b1 = np.where(b>ninetieth_percentile, ninetieth_percentile, b)

data['Age'] = b1  
10th,tenth_percentile 16.0
90th,tenth_percentile 47.0
# Boxplot for Age
sns.boxplot(data['Age'])
<AxesSubplot:xlabel='Age'>

# Distplot for Fare
sns.distplot(data['Fare'])
data['Fare'].skew()
4.787316519674893

sns.boxplot(data['Fare'])
<AxesSubplot:xlabel='Fare'>

# Getting more info 
print('People who paid Fare between 200 and 300$',data[(data['Fare'] >= 200) & (data['Fare']<=300)].shape[0])
print('People who paid Fare greater than 300$',data[(data['Fare'] >= 300)].shape[0])
People who paid Fare between 200 and 300$ 17
People who paid Fare greater than 300$ 3
outlier_list = []
# data1 = data['Fare']

data['Fare'] = sorted(data['Fare'])

q1 = np.percentile(data['Fare'], 25)
q3 = np.percentile(data['Fare'], 75)
print("The Val of Q1 and Q2",q1, q3)

IQR = q3-q1

lwr_bound = q1-(1.5*IQR)
upr_bound = q3+(1.5*IQR)

    # print("The lower & Upper Bound",lwr_bound, upr_bound)
    
for i in data['Fare']: 
    if (i<lwr_bound or i>upr_bound):
        data['Fare'] = data['Fare'].replace(i,np.median(data['Fare']))
        
The Val of Q1 and Q2 7.9104 31.0
# verify outliers

for i in data['Fare']: 
    if (i<lwr_bound or i>upr_bound):
        print(i)
Multivariate Analysis
# Survived with Pclass
sns.countplot(data['Survived'], hue=data['Pclass'])

pd.crosstab(data['Pclass'],data['Survived']).apply(lambda r: round((r/r.sum())*100,2),axis=1)
Survived	0	1
Pclass		
1	37.04	62.96
2	52.72	47.28
3	75.76	24.24

# Survived with sex
sns.countplot(data['Survived'], hue=data['Sex'])

pd.crosstab(data['Sex'],data['Survived']).apply(lambda r: round((r/r.sum())*100,2),axis=1)
Survived	0	1
Sex		
female	25.80	74.20
male	81.11	18.89

# Survived with Embarked
sns.countplot(data['Survived'], hue=data['Embarked'])

pd.crosstab(data['Embarked'],data['Survived']).apply(lambda r: round((r/r.sum())*100,2),axis=1)
Survived	0	1
Embarked		
C	44.64	55.36
Q	61.04	38.96
S	66.10	33.90

# Survived with Age
plt.figure(figsize=(15,6))
sns.distplot(data[data['Survived']==0]['Age'])
sns.distplot(data[data['Survived']==1]['Age'])
<AxesSubplot:xlabel='Age', ylabel='Density'>

# Survived with Fare
plt.figure(figsize=(15,6))
sns.distplot(data[data['Survived']==0]['Fare'])
sns.distplot(data[data['Survived']==1]['Fare'])
<AxesSubplot:xlabel='Fare', ylabel='Density'>

sns.pairplot(data, hue = 'Survived')
<seaborn.axisgrid.PairGrid at 0x1705d9b80a0>

sns.heatmap(data.corr(),annot=True)
<AxesSubplot:>

data.head()
PassengerId	Survived	Pclass	Name	Sex	Age	SibSp	Parch	Ticket	Fare	Embarked
0	1	0	3	Braund, Mr. Owen Harris	male	22.0	1	0	A/5 21171	0.0	S
1	2	1	1	Cumings, Mrs. John Bradley (Florence Briggs Th...	female	38.0	1	0	PC 17599	0.0	C
2	3	1	3	Heikkinen, Miss. Laina	female	26.0	0	0	STON/O2. 3101282	0.0	S
3	4	1	1	Futrelle, Mrs. Jacques Heath (Lily May Peel)	female	35.0	1	0	113803	0.0	S
4	5	0	3	Allen, Mr. William Henry	male	35.0	0	0	373450	0.0	S
# one hot encoding
newdf = pd.get_dummies(data= data, columns = ['Sex','Embarked'], drop_first=True)
newdf.head(2)
PassengerId	Survived	Pclass	Name	Age	SibSp	Parch	Ticket	Fare	Sex_male	Embarked_Q	Embarked_S
0	1	0	3	Braund, Mr. Owen Harris	22.0	1	0	A/5 21171	0.0	1	0	1
1	2	1	1	Cumings, Mrs. John Bradley (Florence Briggs Th...	38.0	1	0	PC 17599	0.0	0	0	0
plt.figure(figsize=(10,6))
sns.heatmap(newdf.corr(),annot=True)
<AxesSubplot:>

Observation
Chances of female survival is more than male
Travelling in Pclass 3 is deadliest
Passenger onboarded from C is survived more
Passenger travelling with small families had a higher chance of surviving the accident in comparision to people with large families & travelling alone
891 passengers travelling in Titanic ship
62% passengers died in Titanic Incident
Most of passengers (491) travelling through class 3
Out of total passengers travelling, most of passengers are male.
64% are male passengers
Maximum passengers are travelling alone
Most of Passengers on boarded on ship from port Southampton
Most of passengers travelling in Titanic having age in the range of 20 to 40
14 passengers travelling in Titanic have age less than1
Most of passengers paid fare less than 50$
Most of passengers died from class 3
More female survived in Titanic Incident
Most of passengers on boarded from port Cherbourg are survived.
Most of passengers on boarded from port Southampton are died
Most of younger Passengers are survived & older passengers are died in Titanic Incident.
# Seperation of dependent & Independent variable
X = newdf[['Pclass', 'Age','SibSp','Parch', 'Fare', 'Sex_male']]
y = newdf['Survived']
# Display Independent var
X
Pclass	Age	SibSp	Parch	Fare	Sex_male
0	3	22.0	1	0	0.0000	1
1	1	38.0	1	0	0.0000	0
2	3	26.0	0	0	0.0000	0
3	1	35.0	1	0	0.0000	0
4	3	35.0	0	0	0.0000	1
...	...	...	...	...	...	...
886	2	27.0	0	0	14.4542	1
887	1	19.0	0	0	14.4542	0
888	3	29.0	1	2	14.4542	0
889	1	26.0	0	0	14.4542	1
890	3	32.0	0	0	14.4542	1
891 rows × 6 columns

# Display dependent var
y
0      0
1      1
2      1
3      1
4      0
      ..
886    0
887    1
888    0
889    1
890    0
Name: Survived, Length: 891, dtype: category
Categories (2, int64): [0, 1]
